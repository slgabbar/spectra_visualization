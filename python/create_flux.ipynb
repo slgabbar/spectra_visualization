{
 "cells": [
  {
   "cell_type": "code",
   "execution_count": 1,
   "metadata": {},
   "outputs": [],
   "source": [
    "import numpy as np\n",
    "import matplotlib\n",
    "from matplotlib import pyplot as plt"
   ]
  },
  {
   "cell_type": "code",
   "execution_count": 3,
   "metadata": {},
   "outputs": [],
   "source": [
    "flux = np.load('flux.npy')\n",
    "wave = np.load('wave.npy')\n",
    "len(flux)\n",
    "len(wave)\n",
    "flux *= 1 / flux.max()"
   ]
  },
  {
   "cell_type": "code",
   "execution_count": 12,
   "metadata": {},
   "outputs": [],
   "source": [
    "zipped = zip(flux, wave)"
   ]
  },
  {
   "cell_type": "code",
   "execution_count": 13,
   "metadata": {},
   "outputs": [
    {
     "data": {
      "text/plain": [
       "<zip at 0x7fa7f647e6c8>"
      ]
     },
     "execution_count": 13,
     "metadata": {},
     "output_type": "execute_result"
    }
   ],
   "source": [
    "import csv\n",
    "with open('test.csv', 'w') as f:\n",
    "    writer = csv.writer(f, delimiter='')"
   ]
  },
  {
   "cell_type": "code",
   "execution_count": 16,
   "metadata": {},
   "outputs": [
    {
     "data": {
      "text/plain": [
       "array([ 3569.43847656,  3570.26171875,  3571.08300781, ...,\n",
       "       10303.86132812, 10306.23730469, 10308.60253906])"
      ]
     },
     "execution_count": 16,
     "metadata": {},
     "output_type": "execute_result"
    }
   ],
   "source": [
    "wave"
   ]
  },
  {
   "cell_type": "code",
   "execution_count": 4,
   "metadata": {},
   "outputs": [],
   "source": [
    "# flux *= 1/flux.max()\n",
    "\n",
    "# fig = plt.figure(frameon=False, dpi=100)\n",
    "# ax = plt.Axes(fig, [0,0,1,1])\n",
    "# ax.set_axis_off()\n",
    "# fig.add_axes(ax)\n",
    "# ax.plot(wave, flux, 'black')\n",
    "# ax.set(xlim=(wave[0], wave[-1]))\n",
    "# fig.savefig('flux.png')"
   ]
  }
 ],
 "metadata": {
  "kernelspec": {
   "display_name": "Python 3",
   "language": "python",
   "name": "python3"
  },
  "language_info": {
   "codemirror_mode": {
    "name": "ipython",
    "version": 3
   },
   "file_extension": ".py",
   "mimetype": "text/x-python",
   "name": "python",
   "nbconvert_exporter": "python",
   "pygments_lexer": "ipython3",
   "version": "3.6.8"
  }
 },
 "nbformat": 4,
 "nbformat_minor": 2
}
